{
 "cells": [
  {
   "cell_type": "markdown",
   "metadata": {},
   "source": [
    "Implementation of the boosting algorithm [Boosting a decision stump](Boosting a decision stump) using **Gradient Boosting Machine** instead of AdaBoost."
   ]
  },
  {
   "cell_type": "code",
   "execution_count": 1,
   "metadata": {},
   "outputs": [],
   "source": [
    "%matplotlib inline\n",
    "import pandas as pd\n",
    "import numpy as np"
   ]
  },
  {
   "cell_type": "markdown",
   "metadata": {},
   "source": [
    "# Load data of loans and data preprocessing. \n",
    "This is a binary classification problem and we need to determine whether a loan is safe or bad."
   ]
  },
  {
   "cell_type": "code",
   "execution_count": 5,
   "metadata": {},
   "outputs": [
    {
     "name": "stderr",
     "output_type": "stream",
     "text": [
      "C:\\ProgramData\\Anaconda3\\lib\\site-packages\\IPython\\core\\interactiveshell.py:2698: DtypeWarning: Columns (19,47) have mixed types. Specify dtype option on import or set low_memory=False.\n",
      "  interactivity=interactivity, compiler=compiler, result=result)\n"
     ]
    },
    {
     "data": {
      "text/html": [
       "<div>\n",
       "<style scoped>\n",
       "    .dataframe tbody tr th:only-of-type {\n",
       "        vertical-align: middle;\n",
       "    }\n",
       "\n",
       "    .dataframe tbody tr th {\n",
       "        vertical-align: top;\n",
       "    }\n",
       "\n",
       "    .dataframe thead th {\n",
       "        text-align: right;\n",
       "    }\n",
       "</style>\n",
       "<table border=\"1\" class=\"dataframe\">\n",
       "  <thead>\n",
       "    <tr style=\"text-align: right;\">\n",
       "      <th></th>\n",
       "      <th>grade</th>\n",
       "      <th>term</th>\n",
       "      <th>home_ownership</th>\n",
       "      <th>emp_length</th>\n",
       "      <th>safe_loans</th>\n",
       "    </tr>\n",
       "  </thead>\n",
       "  <tbody>\n",
       "    <tr>\n",
       "      <th>0</th>\n",
       "      <td>B</td>\n",
       "      <td>36 months</td>\n",
       "      <td>RENT</td>\n",
       "      <td>10+ years</td>\n",
       "      <td>1</td>\n",
       "    </tr>\n",
       "    <tr>\n",
       "      <th>1</th>\n",
       "      <td>C</td>\n",
       "      <td>60 months</td>\n",
       "      <td>RENT</td>\n",
       "      <td>&lt; 1 year</td>\n",
       "      <td>-1</td>\n",
       "    </tr>\n",
       "    <tr>\n",
       "      <th>2</th>\n",
       "      <td>C</td>\n",
       "      <td>36 months</td>\n",
       "      <td>RENT</td>\n",
       "      <td>10+ years</td>\n",
       "      <td>1</td>\n",
       "    </tr>\n",
       "    <tr>\n",
       "      <th>3</th>\n",
       "      <td>C</td>\n",
       "      <td>36 months</td>\n",
       "      <td>RENT</td>\n",
       "      <td>10+ years</td>\n",
       "      <td>1</td>\n",
       "    </tr>\n",
       "    <tr>\n",
       "      <th>4</th>\n",
       "      <td>A</td>\n",
       "      <td>36 months</td>\n",
       "      <td>RENT</td>\n",
       "      <td>3 years</td>\n",
       "      <td>1</td>\n",
       "    </tr>\n",
       "  </tbody>\n",
       "</table>\n",
       "</div>"
      ],
      "text/plain": [
       "  grade        term home_ownership emp_length  safe_loans\n",
       "0     B   36 months           RENT  10+ years           1\n",
       "1     C   60 months           RENT   < 1 year          -1\n",
       "2     C   36 months           RENT  10+ years           1\n",
       "3     C   36 months           RENT  10+ years           1\n",
       "4     A   36 months           RENT    3 years           1"
      ]
     },
     "execution_count": 5,
     "metadata": {},
     "output_type": "execute_result"
    }
   ],
   "source": [
    "loans = pd.read_csv('../../Data/lending-club-data.csv')\n",
    "loans['safe_loans'] = loans['bad_loans'].map({0: +1, 1: -1}) # in binomial deviance loss, we need label +1 and -1\n",
    "loans.drop('bad_loans', axis=1, inplace=True)\n",
    "# for simplification, we only consider four features\n",
    "features = ['grade',              # grade of the loan\n",
    "            'term',               # the term of the loan\n",
    "            'home_ownership',     # home_ownership status: own, mortgage or rent\n",
    "            'emp_length',         # number of years of employment\n",
    "           ]\n",
    "target = 'safe_loans'\n",
    "loans = loans[features + [target]]\n",
    "loans.head(5)"
   ]
  },
  {
   "cell_type": "code",
   "execution_count": 6,
   "metadata": {},
   "outputs": [
    {
     "data": {
      "text/plain": [
       "['grade_A',\n",
       " 'grade_B',\n",
       " 'grade_C',\n",
       " 'grade_D',\n",
       " 'grade_E',\n",
       " 'grade_F',\n",
       " 'grade_G',\n",
       " 'term_ 36 months',\n",
       " 'term_ 60 months',\n",
       " 'home_ownership_MORTGAGE',\n",
       " 'home_ownership_OTHER',\n",
       " 'home_ownership_OWN',\n",
       " 'home_ownership_RENT',\n",
       " 'emp_length_1 year',\n",
       " 'emp_length_10+ years',\n",
       " 'emp_length_2 years',\n",
       " 'emp_length_3 years',\n",
       " 'emp_length_4 years',\n",
       " 'emp_length_5 years',\n",
       " 'emp_length_6 years',\n",
       " 'emp_length_7 years',\n",
       " 'emp_length_8 years',\n",
       " 'emp_length_9 years',\n",
       " 'emp_length_< 1 year']"
      ]
     },
     "execution_count": 6,
     "metadata": {},
     "output_type": "execute_result"
    }
   ],
   "source": [
    "# take all the features as categorical ones and apply one-hot encoding\n",
    "loans = pd.get_dummies(loans)\n",
    "# get the new feature names\n",
    "features = list(loans)\n",
    "features.remove(target)\n",
    "features"
   ]
  },
  {
   "cell_type": "markdown",
   "metadata": {},
   "source": [
    "## Balance the two classes in the dataset"
   ]
  },
  {
   "cell_type": "code",
   "execution_count": 8,
   "metadata": {},
   "outputs": [
    {
     "name": "stdout",
     "output_type": "stream",
     "text": [
      "train shape:  (37224, 25) . \n",
      "Value counts: \n",
      "  1    18748\n",
      "-1    18476\n",
      "Name: safe_loans, dtype: int64\n",
      "test shape:  (9284, 25) . \n",
      "Value counts: \n",
      " -1    4674\n",
      " 1    4610\n",
      "Name: safe_loans, dtype: int64\n"
     ]
    }
   ],
   "source": [
    "# here we use the index provided by the lecturer\n",
    "import json\n",
    "train_idx_file = '../../data/module-5-assignment-2-train-idx.json'\n",
    "test_idx_file = '../../data/module-5-assignment-2-test-idx.json'\n",
    "with open(train_idx_file) as f:\n",
    "    train_idx = json.load(f)\n",
    "with open(test_idx_file) as f:\n",
    "    test_idx = json.load(f)\n",
    "train_data = loans.iloc[train_idx, :]\n",
    "test_data = loans.iloc[test_idx, :]\n",
    "print('train shape: ', train_data.shape, '. \\nValue counts: \\n', train_data['safe_loans'].value_counts())\n",
    "print('test shape: ', test_data.shape, '. \\nValue counts: \\n', test_data['safe_loans'].value_counts())"
   ]
  },
  {
   "cell_type": "markdown",
   "metadata": {},
   "source": [
    "# Decision stump\n",
    "The most simple decision tree with only two terminal nodes. **Because the gradient is continuous instead of binary, the decision stump should be a regression tree.**\n",
    "Here, we use the variance metric to find the splitting variable and splitting value.\n",
    "Note that all the features are discrete ones (0 or 1 after one-hot encoding)"
   ]
  },
  {
   "cell_type": "code",
   "execution_count": 9,
   "metadata": {},
   "outputs": [],
   "source": [
    "def Gini_index(t):\n",
    "    # given the target vector t (1 or -1) of a set of samples, compute the Gini index\n",
    "    n = len(t)\n",
    "    if n == 0:\n",
    "        return 0\n",
    "    n1 = (t == 1).sum() # number of samples belonging to class 1\n",
    "    n2 = (t == -1).sum() # number of samples in class -1\n",
    "    return 1 - (n1/n)**2 - (n2/n)**2 "
   ]
  },
  {
   "cell_type": "code",
   "execution_count": 10,
   "metadata": {},
   "outputs": [],
   "source": [
    "# In this decision stump, since each feature can only be 0 or 1, we assign the samples to the left terminal or right terminal accordingly.\n",
    "def find_splitting_feature(data, features, target):\n",
    "    best_feature = None # the one leading to maximum Gini index decrease (like information gain)\n",
    "    min_obj = float('inf')\n",
    "    for feature in features:\n",
    "        left_t = data[data[feature] == 0, target]\n",
    "        right_t = data[data[feature] == 1, target]\n",
    "        left_GI = Gini_index(left_t)\n",
    "        right_GI = Gini_index(right_t)\n",
    "        GI_after_splitting = len(left_t)/len(data)*left_GI + len(right_t)/len(data)*right_GI # weighted sum\n",
    "        if GI_after_splitting < min_obj:\n",
    "            best_feature = feature\n",
    "            min_obj = GI_after_splitting\n",
    "    return best_feature"
   ]
  },
  {
   "cell_type": "code",
   "execution_count": 28,
   "metadata": {},
   "outputs": [],
   "source": [
    "class DecisionStump:\n",
    "    def __init__(self):\n",
    "        self.splitting_feature = None\n",
    "        self.left_value = None\n",
    "        self.right_value = None\n",
    "    \n",
    "    def train(self, data, features, target):\n",
    "        # find the splitting using variance as the metric\n",
    "        self.splitting_feature = None\n",
    "        min_obj = float('inf')\n",
    "        for feature in features:\n",
    "            left_t = data.loc[data[feature] == 0, target]\n",
    "            right_t = data.loc[data[feature] == 1, target]\n",
    "            var = len(left_t)/len(data) * left_t.var() + len(right_t)/len(data) * right_t.var()\n",
    "            if var < min_obj:\n",
    "                min_obj = var\n",
    "                self.splitting_feature = feature\n",
    "                # the predications of the two leaf nodes are just mean values\n",
    "                self.left_value = left_t.mean()\n",
    "                self.right_value = right_t.mean()\n",
    "    \n",
    "    def predict(self, X):\n",
    "        return X[self.splitting_feature].map({0: self.left_value, 1: self.right_value})"
   ]
  },
  {
   "cell_type": "markdown",
   "metadata": {},
   "source": [
    "# Gradient Boosting Decision Stump\n",
    "For this binary classification problem, the binomial deviance loss function is used. There are mainly two parameters: the iteration number M and the shrinkage parameter $\\lambda$. \n",
    "\n",
    "Generally, shrinkage $\\lambda$ should be small enough to resist overfitting at the cost of more iterations to generate to more decision stumps.\n",
    "The fitted additive model is: $f(x) = \\sum_{i=1}^{i=M} \\lambda T_i(x)$, where $T_i(x)$ is the decision stump we got in the $i^th$ iteration."
   ]
  },
  {
   "cell_type": "code",
   "execution_count": 35,
   "metadata": {},
   "outputs": [],
   "source": [
    "class GBDecisionStump:\n",
    "    def __init__(self, M, shrinkage):\n",
    "        self.M = M\n",
    "        self.shrinkage = shrinkage\n",
    "        self.decision_stumps = [] # list of all the decision stumps by boosting\n",
    "        \n",
    "    def train(self, data, features, target):\n",
    "        self.decision_stumps = []\n",
    "        N = len(data)\n",
    "        f = np.zeros(N) # initial model\n",
    "        y = data[target]\n",
    "        for i in range(self.M):\n",
    "            # gradient\n",
    "            r = 2*y*np.exp(-2*y*f) / (1 + np.exp(-2*y*f))\n",
    "            data.loc[:, 'gradient'] = r\n",
    "            # fit a decision stump to the gradient\n",
    "            ds = DecisionStump()\n",
    "            ds.train(data, features, 'gradient')\n",
    "            # update the additive model f\n",
    "            # we cannot really add two decision stumps. Instead, just store them\n",
    "            # however, we need the new f value for each input sample\n",
    "            self.decision_stumps.append(ds)\n",
    "            f = f + self.shrinkage * ds.predict(data)\n",
    "    \n",
    "    def predict(self, X):\n",
    "        y = np.zeros(len(X))\n",
    "        for ds in self.decision_stumps:\n",
    "            y = y + ds.predict(X)\n",
    "        y = np.sign(y)\n",
    "        y[y == 0] = -1\n",
    "        return y  "
   ]
  },
  {
   "cell_type": "markdown",
   "metadata": {},
   "source": [
    "# Test the Gradient Boosting Decision Stump"
   ]
  },
  {
   "cell_type": "code",
   "execution_count": 38,
   "metadata": {},
   "outputs": [
    {
     "name": "stderr",
     "output_type": "stream",
     "text": [
      "C:\\ProgramData\\Anaconda3\\lib\\site-packages\\pandas\\core\\indexing.py:537: SettingWithCopyWarning: \n",
      "A value is trying to be set on a copy of a slice from a DataFrame.\n",
      "Try using .loc[row_indexer,col_indexer] = value instead\n",
      "\n",
      "See the caveats in the documentation: http://pandas.pydata.org/pandas-docs/stable/indexing.html#indexing-view-versus-copy\n",
      "  self.obj[item] = s\n"
     ]
    },
    {
     "name": "stdout",
     "output_type": "stream",
     "text": [
      "error rate:  0.382172791747\n"
     ]
    }
   ],
   "source": [
    "gbds = GBDecisionStump(300, 0.02)\n",
    "gbds.train(train_data, features, target)\n",
    "p = gbds.predict(train_data)\n",
    "print('error rate: ', (p != train_data[target]).sum() / len(train_data))"
   ]
  },
  {
   "cell_type": "markdown",
   "metadata": {},
   "source": [
    "## error rate curve w.r.t the iteration number"
   ]
  },
  {
   "cell_type": "code",
   "execution_count": 39,
   "metadata": {},
   "outputs": [
    {
     "name": "stderr",
     "output_type": "stream",
     "text": [
      "C:\\ProgramData\\Anaconda3\\lib\\site-packages\\pandas\\core\\indexing.py:537: SettingWithCopyWarning: \n",
      "A value is trying to be set on a copy of a slice from a DataFrame.\n",
      "Try using .loc[row_indexer,col_indexer] = value instead\n",
      "\n",
      "See the caveats in the documentation: http://pandas.pydata.org/pandas-docs/stable/indexing.html#indexing-view-versus-copy\n",
      "  self.obj[item] = s\n"
     ]
    }
   ],
   "source": [
    "Ms = list(range(1, 1000, 50))\n",
    "shrinkage = 0.02\n",
    "train_error_all = []\n",
    "test_error_all = []\n",
    "for M in Ms:\n",
    "    gbds = GBDecisionStump(M, shrinkage)\n",
    "    gbds.train(train_data, features, target)\n",
    "    p = gbds.predict(train_data)\n",
    "    train_error_all.append((p != train_data[target]).sum() / len(train_data))\n",
    "    p = gbds.predict(test_data)\n",
    "    test_error_all.append((p != test_data[target]).sum() / len(test_data))\n",
    "    "
   ]
  },
  {
   "cell_type": "code",
   "execution_count": 40,
   "metadata": {},
   "outputs": [
    {
     "data": {
      "image/png": "[encoded data removed]",
      "text/plain": [
       "<matplotlib.figure.Figure at 0x20ba57545c0>"
      ]
     },
     "metadata": {},
     "output_type": "display_data"
    }
   ],
   "source": [
    "import matplotlib.pyplot as plt\n",
    "plt.rcParams['figure.figsize'] = 7, 5\n",
    "plt.plot(Ms, train_error_all, '-', linewidth=4.0, label='Training error')\n",
    "plt.plot(Ms, test_error_all, '-', linewidth=4.0, label='Test error')\n",
    "\n",
    "plt.title('Performance of gradient boosting decision stump ensemble')\n",
    "plt.xlabel('# of iterations')\n",
    "plt.ylabel('Classification error')\n",
    "plt.rcParams.update({'font.size': 16})\n",
    "plt.legend(loc='best', prop={'size':15})\n",
    "plt.tight_layout()"
   ]
  },
  {
   "cell_type": "markdown",
   "metadata": {},
   "source": [
    "As we can see, roughly 500 iterations is enough. One characteristic of gradient boosting is its resistance to overfitting. Even at about 1000 iterations, the model is still not overfitting. The plateau is quite wide and therefore a wide range of iterations is acceptable. Compared with the [AdaBoost.M1 algorithm](../../AdaBoost/Boosting a decision stump.ipynb), the performance of GBM is better. However, due to the careless choice of features, the best classification error is around 0.38. "
   ]
  },
  {
   "cell_type": "code",
   "execution_count": null,
   "metadata": {},
   "outputs": [],
   "source": []
  }
 ],
 "metadata": {
  "kernelspec": {
   "display_name": "Python 3",
   "language": "python",
   "name": "python3"
  },
  "language_info": {
   "codemirror_mode": {
    "name": "ipython",
    "version": 3
   },
   "file_extension": ".py",
   "mimetype": "text/x-python",
   "name": "python",
   "nbconvert_exporter": "python",
   "pygments_lexer": "ipython3",
   "version": "3.6.3"
  }
 },
 "nbformat": 4,
 "nbformat_minor": 2
}
