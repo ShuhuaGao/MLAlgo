{
 "cells": [
  {
   "cell_type": "markdown",
   "metadata": {},
   "source": [
    "# Boosting a decision stump\n",
    "[Assignment](https://www.coursera.org/learn/ml-classification/supplement/3TYwk/boosting-a-decision-stump) of the Coursera opencousre [*Machine Learning: classification*](https://www.coursera.org/learn/ml-classification/home/welcome) week 5 on Boosting a classifier. "
   ]
  },
  {
   "cell_type": "markdown",
   "metadata": {},
   "source": [
    "# 1. Prepare the data"
   ]
  },
  {
   "cell_type": "code",
   "execution_count": 32,
   "metadata": {
    "collapsed": true
   },
   "outputs": [],
   "source": [
    "%matplotlib inline\n",
    "from IPython.core.debugger import Pdb"
   ]
  },
  {
   "cell_type": "code",
   "execution_count": 33,
   "metadata": {},
   "outputs": [
    {
     "name": "stderr",
     "output_type": "stream",
     "text": [
      "C:\\ProgramData\\Anaconda3\\lib\\site-packages\\IPython\\core\\interactiveshell.py:2698: DtypeWarning: Columns (19,47) have mixed types. Specify dtype option on import or set low_memory=False.\n",
      "  interactivity=interactivity, compiler=compiler, result=result)\n"
     ]
    }
   ],
   "source": [
    "import pandas as pd\n",
    "import numpy as np\n",
    "loans = pd.read_csv('../Data/lending-club-data.csv')"
   ]
  },
  {
   "cell_type": "markdown",
   "metadata": {},
   "source": [
    "## Load data and apply one-hot encoding to change the categorical features into numeric ones"
   ]
  },
  {
   "cell_type": "code",
   "execution_count": 34,
   "metadata": {
    "collapsed": true
   },
   "outputs": [],
   "source": [
    "#  reassign the labels to have +1 for a safe loan, and -1 for a risky (bad) loan\n",
    "loans['safe_loans'] = loans['bad_loans'].map({0: +1, 1: -1})\n",
    "loans = loans.drop('bad_loans', axis=1)\n",
    "# consider four features\n",
    "features = ['grade',              # grade of the loan\n",
    "            'term',               # the term of the loan\n",
    "            'home_ownership',     # home_ownership status: own, mortgage or rent\n",
    "            'emp_length',         # number of years of employment\n",
    "           ]\n",
    "target = 'safe_loans'\n",
    "# extract these columns from the dataset and discard others\n",
    "loans = loans[features + [target]]\n",
    "# one hot encoding\n",
    "loans = pd.get_dummies(loans)\n",
    "loans.head(5)\n",
    "# after encoding, we have new feature names\n",
    "features = list(loans)\n",
    "features.remove(target)"
   ]
  },
  {
   "cell_type": "code",
   "execution_count": 35,
   "metadata": {},
   "outputs": [
    {
     "data": {
      "text/plain": [
       "['grade_A',\n",
       " 'grade_B',\n",
       " 'grade_C',\n",
       " 'grade_D',\n",
       " 'grade_E',\n",
       " 'grade_F',\n",
       " 'grade_G',\n",
       " 'term_ 36 months',\n",
       " 'term_ 60 months',\n",
       " 'home_ownership_MORTGAGE',\n",
       " 'home_ownership_OTHER',\n",
       " 'home_ownership_OWN',\n",
       " 'home_ownership_RENT',\n",
       " 'emp_length_1 year',\n",
       " 'emp_length_10+ years',\n",
       " 'emp_length_2 years',\n",
       " 'emp_length_3 years',\n",
       " 'emp_length_4 years',\n",
       " 'emp_length_5 years',\n",
       " 'emp_length_6 years',\n",
       " 'emp_length_7 years',\n",
       " 'emp_length_8 years',\n",
       " 'emp_length_9 years',\n",
       " 'emp_length_< 1 year',\n",
       " 'emp_length_n/a']"
      ]
     },
     "execution_count": 35,
     "metadata": {},
     "output_type": "execute_result"
    }
   ],
   "source": [
    "features"
   ]
  },
  {
   "cell_type": "markdown",
   "metadata": {},
   "source": [
    "## Balance the two classes in the dataset"
   ]
  },
  {
   "cell_type": "code",
   "execution_count": 36,
   "metadata": {},
   "outputs": [
    {
     "name": "stdout",
     "output_type": "stream",
     "text": [
      "train shape:  (37224, 26) . \n",
      "Value counts: \n",
      "  1    18748\n",
      "-1    18476\n",
      "Name: safe_loans, dtype: int64\n",
      "test shape:  (9284, 26) . \n",
      "Value counts: \n",
      " -1    4674\n",
      " 1    4610\n",
      "Name: safe_loans, dtype: int64\n"
     ]
    }
   ],
   "source": [
    "# here we use the index provided by the lecturer\n",
    "import json\n",
    "train_idx_file = '../data/module-5-assignment-2-train-idx.json'\n",
    "test_idx_file = '../data/module-5-assignment-2-test-idx.json'\n",
    "with open(train_idx_file) as f:\n",
    "    train_idx = json.load(f)\n",
    "with open(test_idx_file) as f:\n",
    "    test_idx = json.load(f)\n",
    "train_data = loans.iloc[train_idx, :]\n",
    "test_data = loans.iloc[test_idx, :]\n",
    "print('train shape: ', train_data.shape, '. \\nValue counts: \\n', train_data['safe_loans'].value_counts())\n",
    "print('test shape: ', test_data.shape, '. \\nValue counts: \\n', test_data['safe_loans'].value_counts())"
   ]
  },
  {
   "cell_type": "markdown",
   "metadata": {},
   "source": [
    "# 2. Weighted impurity metric definition\n",
    "\n",
    "+ The basic principle to handle data point weight is to consider an example with weight $\\alpha$ as $\\alpha$ examples.\n",
    "+ In this part, intead of error rate used in the course, we use the Gini Index as the impurity measure of a certain node. It is shown that Entropy or Gini Index is a better metric than classification error when choosing the splitting feature. Reason can be found [here](https://github.com/rasbt/python-machine-learning-book/blob/master/faq/decisiontree-error-vs-entropy.md).\n",
    "+ For a binary decision tree, Gini Index for node t is defined as $GI(t)=1-p_{c1}^2-p_{c2}^2$, where $p_{c1}$ is the ratio of examples belonging to class $c1$. When data points are weighted, we compute $p_{c1}$ as follows\n",
    "\\begin{equation*}\n",
    "p_{c1} = \\frac{\\sum_{c1}\\alpha}{\\sum\\alpha}\n",
    "\\end{equation*}"
   ]
  },
  {
   "cell_type": "code",
   "execution_count": 37,
   "metadata": {
    "collapsed": true
   },
   "outputs": [],
   "source": [
    "def weighted_Gini(labels_in_node, data_weights):\n",
    "    if data_weights.size == 0:  # empty\n",
    "        return 0\n",
    "    total_weight_positive = data_weights[labels_in_node == +1].sum()\n",
    "    total_weight_negative = data_weights[labels_in_node == -1].sum()\n",
    "    total_weight = total_weight_positive + total_weight_negative\n",
    "    return 1 - (total_weight_negative / total_weight) ** 2 - (total_weight_positive / total_weight) ** 2"
   ]
  },
  {
   "cell_type": "markdown",
   "metadata": {},
   "source": [
    "# 3. Function to pick the best feature to split on\n",
    "The one which leads to the maximum (weighted) impurity decrease (similar to Information gain)\n",
    "\\begin{equation}\n",
    "\\Delta_{impurity} = GI(parent) - \\frac{left-total-weight}{parent-total-weight}GI(left) - \\frac{right-total-weight}{parent-total-weight}GI(right)\n",
    "\\end{equation}\n",
    "where *left* and *right* are the two children.\n",
    "\n",
    "Because $GI(parent)$ is fixed, we need to find the feature which minimizes $\\frac{left-total-weight}{parent-total-weight}GI(left) + \\frac{right-total-weight}{parent-total-weight}GI(right)$. In addition, since *parent-total-weight* is also fixed, we just need to **minimize** ${(left-total-weight)}GI(left) + {(right-total-weight)}GI(right)$."
   ]
  },
  {
   "cell_type": "code",
   "execution_count": 38,
   "metadata": {
    "collapsed": true
   },
   "outputs": [],
   "source": [
    "def best_splitting_feature(data, features, target, data_weights):\n",
    "    best_feature = None\n",
    "    min_obj = float('inf')\n",
    "    \n",
    "    for feature in features:\n",
    "        left_filter = data[feature] == 0\n",
    "        right_filter = data[feature] == 1\n",
    "        left_split = data[left_filter]\n",
    "        right_split = data[right_filter]\n",
    "        left_data_weights = data_weights[left_filter]\n",
    "        right_data_weights = data_weights[right_filter]\n",
    "        obj = left_data_weights.sum() * weighted_Gini(left_split[target], left_data_weights) \\\n",
    "            + right_data_weights.sum() * weighted_Gini(right_split[target], right_data_weights) # see the above formula\n",
    "        if obj < min_obj:\n",
    "            min_obj = obj\n",
    "            best_feature = feature\n",
    "    if best_feature is None:\n",
    "        Pdb().set_trace()\n",
    "    return best_feature"
   ]
  },
  {
   "cell_type": "markdown",
   "metadata": {},
   "source": [
    "# 4. Build the tree"
   ]
  },
  {
   "cell_type": "markdown",
   "metadata": {},
   "source": [
    "## Node structure"
   ]
  },
  {
   "cell_type": "code",
   "execution_count": 39,
   "metadata": {
    "collapsed": true
   },
   "outputs": [],
   "source": [
    "class Node:\n",
    "    def __init__(self):\n",
    "        self.is_leaf = False\n",
    "        self.predication = None\n",
    "        self.left = None\n",
    "        self.right = None\n",
    "        self.splitting_feature = None  \n",
    "        \n",
    "    def __str__(self):\n",
    "        return 'leaf: {}\\npredication:{}\\nsplitting_feature:{}\\n'.format(self.is_leaf, self.predication, self.splitting_feature)"
   ]
  },
  {
   "cell_type": "markdown",
   "metadata": {},
   "source": [
    "## Create a leaf node from data"
   ]
  },
  {
   "cell_type": "code",
   "execution_count": 40,
   "metadata": {
    "collapsed": true
   },
   "outputs": [],
   "source": [
    "def create_leaf(labels_in_node, data_weights):\n",
    "    # sum the total weights for the two classes respectively\n",
    "    # then the larger one will label this leaf node\n",
    "    leaf = Node()\n",
    "    leaf.is_leaf = True\n",
    "    leaf.predication = 1 if data_weights[labels_in_node == 1].sum() > data_weights[labels_in_node == -1].sum() else -1\n",
    "    return leaf"
   ]
  },
  {
   "cell_type": "markdown",
   "metadata": {},
   "source": [
    "## Learn a weighted decision tree\n",
    "Stopping conditions:\n",
    "+ All data points in a node belong to the same class.\n",
    "+ No more features are available.\n",
    "+ Maximum depth reached.\n",
    "+ The best feature has only value (0 or 1), i.e., one side of the split is empty."
   ]
  },
  {
   "cell_type": "code",
   "execution_count": 41,
   "metadata": {
    "collapsed": true
   },
   "outputs": [],
   "source": [
    "def weighted_decision_tree_create(data, features, target, data_weights, current_depth = 1, max_depth = 10, annotate=False):\n",
    "    def info(s):\n",
    "        if annotate:\n",
    "            print(s)\n",
    "    # stop conditions\n",
    "    if (data[target] == 1).all() or (data[target] == -1).all():\n",
    "        info('>stop condition 1: all the same class')\n",
    "        return create_leaf(data[target], data_weights)\n",
    "    if len(features) == 0:\n",
    "        print('>stop condtion 2: no more features')\n",
    "        return create_leaf(data[target], data_weights)\n",
    "    if current_depth > max_depth:\n",
    "        info('>stop condtion 3: max depth {} reached'.format(max_depth))\n",
    "        return create_leaf(data[target], data_weights)\n",
    "    # stop condition 4: if one child is empty, i.e., the best feature has only one value in data, then it can be shown that all the other features have only one value in this data as well. In this case, we label current node as a leaf.\n",
    "    best_feature = best_splitting_feature(data, features, target, data_weights)\n",
    "    if best_feature is None:\n",
    "        Pdb().set_trace()\n",
    "    left_filter = data[best_feature] == 0\n",
    "    right_filter = data[best_feature] == 1\n",
    "    left_data = data[left_filter]\n",
    "    right_data = data[right_filter]\n",
    "    if len(left_data) == 0 or len(right_data) == 0:\n",
    "        info('>stop condtion 4: best feature has only one value')\n",
    "        return create_leaf(data[target], data_weights)\n",
    "    \n",
    "    # build subtrees recursively\n",
    "    node = Node()\n",
    "    node.is_leaf = False\n",
    "    node.splitting_feature = best_feature\n",
    "    if annotate:\n",
    "        print('splitting on ', best_feature)\n",
    "    # remove the used feature\n",
    "    remaining_features = list(features) # first copy \n",
    "    remaining_features.remove(best_feature)\n",
    "    node.left = weighted_decision_tree_create(left_data, remaining_features, target, data_weights[left_filter], current_depth + 1, max_depth)\n",
    "    node.right = weighted_decision_tree_create(right_data, remaining_features, target, data_weights[right_filter], current_depth + 1, max_depth)\n",
    "    return node"
   ]
  },
  {
   "cell_type": "markdown",
   "metadata": {},
   "source": [
    "## Utility: count the nodes in the tree"
   ]
  },
  {
   "cell_type": "code",
   "execution_count": 42,
   "metadata": {
    "collapsed": true
   },
   "outputs": [],
   "source": [
    "def count_nodes(tree):\n",
    "    if tree.is_leaf:\n",
    "        return 1\n",
    "    return 1 + count_nodes(tree.left) + count_nodes(tree.right)"
   ]
  },
  {
   "cell_type": "markdown",
   "metadata": {},
   "source": [
    "## Predicate with the weighted decision tree"
   ]
  },
  {
   "cell_type": "code",
   "execution_count": 43,
   "metadata": {
    "collapsed": true
   },
   "outputs": [],
   "source": [
    "def classify(tree, x, annotate=False):\n",
    "    if tree.is_leaf:\n",
    "        return tree.predication\n",
    "    feature = tree.splitting_feature\n",
    "    if x[feature] == 0:\n",
    "        return classify(tree.left, x, annotate)\n",
    "    else:\n",
    "        return classify(tree.right, x, annotate)"
   ]
  },
  {
   "cell_type": "markdown",
   "metadata": {},
   "source": [
    "## Evaluate the tree: compute its classification error rate\n",
    "The function does not change because of adding data point weights. That is, when evaluating the tree, we don't consider the data point weights."
   ]
  },
  {
   "cell_type": "code",
   "execution_count": 44,
   "metadata": {
    "collapsed": true
   },
   "outputs": [],
   "source": [
    "def evaluate(tree, data, target):\n",
    "    predications = data.apply(lambda x: classify(tree, x), axis=1) # apply to each row\n",
    "    return (predications != data[target]).sum() / len(predications)  # error rate"
   ]
  },
  {
   "cell_type": "markdown",
   "metadata": {},
   "source": [
    "## intuition on how weighted data points affect the tree being built"
   ]
  },
  {
   "cell_type": "code",
   "execution_count": 45,
   "metadata": {
    "collapsed": true
   },
   "outputs": [],
   "source": [
    "# Suppose we only care about making good predictions for the first 10 and last 10 items in train_data\n",
    "# assign weight 1 to these 20 examples and 0 to others\n",
    "data_weights = np.zeros(len(train_data)) + 1e-3\n",
    "data_weights[0:10] = 1\n",
    "data_weights[-10:] = 1\n",
    "train_data_20 = train_data[data_weights == 1]  # a small subset containing only the 20 samples"
   ]
  },
  {
   "cell_type": "code",
   "execution_count": 46,
   "metadata": {},
   "outputs": [],
   "source": [
    "tree_20 = weighted_decision_tree_create(train_data, features, target, data_weights, current_depth = 1, max_depth = 5)"
   ]
  },
  {
   "cell_type": "code",
   "execution_count": 47,
   "metadata": {},
   "outputs": [
    {
     "data": {
      "text/plain": [
       "0.0"
      ]
     },
     "execution_count": 47,
     "metadata": {},
     "output_type": "execute_result"
    }
   ],
   "source": [
    "evaluate(tree_20, train_data_20, target)"
   ]
  },
  {
   "cell_type": "code",
   "execution_count": 48,
   "metadata": {},
   "outputs": [
    {
     "data": {
      "text/plain": [
       "0.42477971201375458"
      ]
     },
     "execution_count": 48,
     "metadata": {},
     "output_type": "execute_result"
    }
   ],
   "source": [
    "evaluate(tree_20, train_data, target)"
   ]
  },
  {
   "cell_type": "markdown",
   "metadata": {},
   "source": [
    "As can be seen, this decision tree performs better on the small dataset (no error). This is because our training process focuses on the 20 data points of the small subset (others have weight 0)."
   ]
  },
  {
   "cell_type": "markdown",
   "metadata": {},
   "source": [
    "# 5. AdaBoost: Boosting the decision trees\n",
    "Now that we have a weighted decision tree working, it takes only a bit of work to implement Adaboost. For the sake of simplicity, let us stick with decision tree stumps by training trees with max_depth=1."
   ]
  },
  {
   "cell_type": "markdown",
   "metadata": {},
   "source": [
    "## Compute the weight for classifier and data points\n",
    "\n",
    "### Compute classifier (decision stump here) weight\n",
    "Note that unlike the final evaluation, when computing the tree weight $w$, we use the **weighted error rate** as follows\n",
    "\\begin{equation}\n",
    "w = \\frac{1}{2}ln\\Big(\\frac{1-weighted\\_error\\_rate}{weighted\\_error\\_rate}\\Big)\n",
    "\\end{equation}\n",
    "**weighted error rate** is computed as \n",
    "\\begin{equation}\n",
    "weighted\\_error\\_rate=\\frac{total\\_weight\\_misclassified\\_points}{total\\_weight\\_all\\_points}\n",
    "\\end{equation}"
   ]
  },
  {
   "cell_type": "code",
   "execution_count": 49,
   "metadata": {
    "collapsed": true
   },
   "outputs": [],
   "source": [
    "def weighted_error_rate(data_weights, is_error):\n",
    "    # is_error: array_like, indicating wether the classification of the tree is right\n",
    "    return data_weights[is_error].sum() / data_weights.sum()\n",
    "\n",
    "def compute_classifier_weight(data_weights, is_error):\n",
    "    we = weighted_error_rate(data_weights, is_error)\n",
    "    if np.isclose(we, 0): # default threshold 1e-8\n",
    "        return 20\n",
    "    return 0.5*np.log((1-we) / we)"
   ]
  },
  {
   "cell_type": "markdown",
   "metadata": {},
   "source": [
    "### Compute(update) the data point weights\n",
    "if $f(x)=y$, i.e., right classified points: $\\alpha \\leftarrow \\alpha \\exp(-w)$\n",
    "\n",
    "if $f(x)\\neq y$, i.e., wrong classified points: $\\alpha \\leftarrow \\alpha \\exp(w)$\n",
    "\n",
    "where *w* is the weight of the current classifier."
   ]
  },
  {
   "cell_type": "code",
   "execution_count": 50,
   "metadata": {
    "collapsed": true
   },
   "outputs": [],
   "source": [
    "def update_data_weights(data_weights, is_error, w):\n",
    "    # w is the classifier weight\n",
    "    new_data_weights = np.copy(data_weights)\n",
    "    new_data_weights[is_error] = data_weights[is_error] * np.exp(w)\n",
    "    new_data_weights[~is_error] = data_weights[~is_error] * np.exp(-w)\n",
    "    # normalize the weights to ensure numerical stability\n",
    "    new_data_weights = new_data_weights / new_data_weights.sum()\n",
    "    return new_data_weights"
   ]
  },
  {
   "cell_type": "markdown",
   "metadata": {},
   "source": [
    "# AdaBoost framework\n",
    "\n",
    "## Learn an ensemble of decision stumps, aka, decision tree of max_depth=1\n",
    "Now write your own Adaboost function. The function accepts 4 parameters:\n",
    "\n",
    "+ data: a data frame with binary features\n",
    "+ features: list of feature names\n",
    "+ target: name of target column\n",
    "+ num_tree_stumps: number of tree stumps to train for the ensemble\n",
    "\n",
    "The function should return the list of tree stumps, along with the list of corresponding tree stump weights."
   ]
  },
  {
   "cell_type": "code",
   "execution_count": 51,
   "metadata": {
    "collapsed": true
   },
   "outputs": [],
   "source": [
    "def AdaBoost_with_decision_stumps(data, features, target, num_tree_stumps):\n",
    "    # initial data point weights are all equal\n",
    "    data_weights = np.ones(len(data)) / len(data)\n",
    "    \n",
    "    # sequentially train multiple decision stumps\n",
    "    tree_stumps = [None] * num_tree_stumps\n",
    "    tree_stump_weights = [None] * num_tree_stumps\n",
    "    for i in range(num_tree_stumps):\n",
    "        print('============AdaBoost iteration {}============='.format(i))\n",
    "        tree_stumps[i] = weighted_decision_tree_create(data, features, target, data_weights, current_depth=1, max_depth=1, annotate=False)\n",
    "        # classify using this tree stump\n",
    "        predications = data.apply(lambda x: classify(tree_stumps[i], x), axis='columns')\n",
    "        is_error = predications != data[target]\n",
    "        # compute the tree weight\n",
    "        w = compute_classifier_weight(data_weights, is_error)\n",
    "        tree_stump_weights[i] = w\n",
    "        # reweight the data points\n",
    "        data_weights = update_data_weights(data_weights, is_error, w)\n",
    "    return tree_stumps, tree_stump_weights"
   ]
  },
  {
   "cell_type": "markdown",
   "metadata": {},
   "source": [
    "## Predict with AdaBoost decision stumps\n",
    "\n",
    "$\\hat{y}=sign\\big(\\sum_i w_if_i(x)\\big)$"
   ]
  },
  {
   "cell_type": "code",
   "execution_count": 52,
   "metadata": {
    "collapsed": true
   },
   "outputs": [],
   "source": [
    "def predict_AdaBoost(tree_stumps, tree_stump_weights, data):\n",
    "    predications = np.empty([len(data), len(tree_stumps)]) # [i, j] is the predication of ith example with the jth stump\n",
    "    for j, stump in enumerate(tree_stumps):\n",
    "        predications[:, j] = data.apply(lambda x: classify(stump, x), axis=1)\n",
    "    # weight sum\n",
    "    ws = np.dot(predications, tree_stump_weights)\n",
    "    return np.sign(ws)"
   ]
  },
  {
   "cell_type": "markdown",
   "metadata": {},
   "source": [
    "## Training a boosted ensemble of 10 stumps\n",
    "To make sure there are no errors in our implementation."
   ]
  },
  {
   "cell_type": "code",
   "execution_count": 53,
   "metadata": {},
   "outputs": [
    {
     "name": "stdout",
     "output_type": "stream",
     "text": [
      "============AdaBoost iteration 0=============\n",
      "============AdaBoost iteration 1=============\n",
      "============AdaBoost iteration 2=============\n",
      "============AdaBoost iteration 3=============\n",
      "============AdaBoost iteration 4=============\n",
      "============AdaBoost iteration 5=============\n",
      "============AdaBoost iteration 6=============\n",
      "============AdaBoost iteration 7=============\n",
      "============AdaBoost iteration 8=============\n",
      "============AdaBoost iteration 9=============\n"
     ]
    }
   ],
   "source": [
    "num_tree_stumps = 10\n",
    "tree_stumps, tree_stump_weights = AdaBoost_with_decision_stumps(train_data, features, target, num_tree_stumps)"
   ]
  },
  {
   "cell_type": "markdown",
   "metadata": {},
   "source": [
    "## Visualizing training error/test error vs number of iterations\n",
    "For n = 1 to 30, do the following:\n",
    "\n",
    "+ Make predictions on train_data using tree stumps 0, ..., n-1.\n",
    "+ Compute classification error for the predictions\n",
    "+ Record the classification error for that n.\n",
    "\n",
    "After first iteration, we have one tree stump; after second iteration, we have 2."
   ]
  },
  {
   "cell_type": "code",
   "execution_count": 54,
   "metadata": {},
   "outputs": [
    {
     "name": "stdout",
     "output_type": "stream",
     "text": [
      "============AdaBoost iteration 0=============\n",
      "stump weights:  [0.1339350739879504]\n",
      "============AdaBoost iteration 0=============\n",
      "============AdaBoost iteration 1=============\n",
      "stump weights:  [0.1339350739879504, 0.19445707401239792]\n",
      "============AdaBoost iteration 0=============\n",
      "============AdaBoost iteration 1=============\n",
      "============AdaBoost iteration 2=============\n",
      "stump weights:  [0.1339350739879504, 0.19445707401239792, 0.052939803799880156]\n",
      "============AdaBoost iteration 0=============\n",
      "============AdaBoost iteration 1=============\n",
      "============AdaBoost iteration 2=============\n",
      "============AdaBoost iteration 3=============\n",
      "stump weights:  [0.1339350739879504, 0.19445707401239792, 0.052939803799880156, 0.06473431232415848]\n",
      "============AdaBoost iteration 0=============\n",
      "============AdaBoost iteration 1=============\n",
      "============AdaBoost iteration 2=============\n",
      "============AdaBoost iteration 3=============\n",
      "============AdaBoost iteration 4=============\n",
      "stump weights:  [0.1339350739879504, 0.19445707401239792, 0.052939803799880156, 0.06473431232415848, 0.074489110328114436]\n",
      "============AdaBoost iteration 0=============\n",
      "============AdaBoost iteration 1=============\n",
      "============AdaBoost iteration 2=============\n",
      "============AdaBoost iteration 3=============\n",
      "============AdaBoost iteration 4=============\n",
      "============AdaBoost iteration 5=============\n",
      "stump weights:  [0.1339350739879504, 0.19445707401239792, 0.052939803799880156, 0.06473431232415848, 0.074489110328114436, 0.078491148368661195]\n",
      "============AdaBoost iteration 0=============\n",
      "============AdaBoost iteration 1=============\n",
      "============AdaBoost iteration 2=============\n",
      "============AdaBoost iteration 3=============\n",
      "============AdaBoost iteration 4=============\n",
      "============AdaBoost iteration 5=============\n",
      "============AdaBoost iteration 6=============\n",
      "stump weights:  [0.1339350739879504, 0.19445707401239792, 0.052939803799880156, 0.06473431232415848, 0.074489110328114436, 0.078491148368661195, 0.037737848718270392]\n",
      "============AdaBoost iteration 0=============\n",
      "============AdaBoost iteration 1=============\n",
      "============AdaBoost iteration 2=============\n",
      "============AdaBoost iteration 3=============\n",
      "============AdaBoost iteration 4=============\n",
      "============AdaBoost iteration 5=============\n",
      "============AdaBoost iteration 6=============\n",
      "============AdaBoost iteration 7=============\n",
      "stump weights:  [0.1339350739879504, 0.19445707401239792, 0.052939803799880156, 0.06473431232415848, 0.074489110328114436, 0.078491148368661195, 0.037737848718270392, 0.054049386819014986]\n",
      "============AdaBoost iteration 0=============\n",
      "============AdaBoost iteration 1=============\n",
      "============AdaBoost iteration 2=============\n",
      "============AdaBoost iteration 3=============\n",
      "============AdaBoost iteration 4=============\n",
      "============AdaBoost iteration 5=============\n",
      "============AdaBoost iteration 6=============\n",
      "============AdaBoost iteration 7=============\n",
      "============AdaBoost iteration 8=============\n",
      "stump weights:  [0.1339350739879504, 0.19445707401239792, 0.052939803799880156, 0.06473431232415848, 0.074489110328114436, 0.078491148368661195, 0.037737848718270392, 0.054049386819014986, 0.024887269109361763]\n",
      "============AdaBoost iteration 0=============\n",
      "============AdaBoost iteration 1=============\n",
      "============AdaBoost iteration 2=============\n",
      "============AdaBoost iteration 3=============\n",
      "============AdaBoost iteration 4=============\n",
      "============AdaBoost iteration 5=============\n",
      "============AdaBoost iteration 6=============\n",
      "============AdaBoost iteration 7=============\n",
      "============AdaBoost iteration 8=============\n",
      "============AdaBoost iteration 9=============\n",
      "stump weights:  [0.1339350739879504, 0.19445707401239792, 0.052939803799880156, 0.06473431232415848, 0.074489110328114436, 0.078491148368661195, 0.037737848718270392, 0.054049386819014986, 0.024887269109361763, 0.031543877188622442]\n",
      "============AdaBoost iteration 0=============\n",
      "============AdaBoost iteration 1=============\n",
      "============AdaBoost iteration 2=============\n",
      "============AdaBoost iteration 3=============\n",
      "============AdaBoost iteration 4=============\n",
      "============AdaBoost iteration 5=============\n",
      "============AdaBoost iteration 6=============\n",
      "============AdaBoost iteration 7=============\n",
      "============AdaBoost iteration 8=============\n",
      "============AdaBoost iteration 9=============\n",
      "============AdaBoost iteration 10=============\n",
      "stump weights:  [0.1339350739879504, 0.19445707401239792, 0.052939803799880156, 0.06473431232415848, 0.074489110328114436, 0.078491148368661195, 0.037737848718270392, 0.054049386819014986, 0.024887269109361763, 0.031543877188622442, 0.02654777054055147]\n",
      "============AdaBoost iteration 0=============\n",
      "============AdaBoost iteration 1=============\n",
      "============AdaBoost iteration 2=============\n",
      "============AdaBoost iteration 3=============\n",
      "============AdaBoost iteration 4=============\n",
      "============AdaBoost iteration 5=============\n",
      "============AdaBoost iteration 6=============\n",
      "============AdaBoost iteration 7=============\n",
      "============AdaBoost iteration 8=============\n",
      "============AdaBoost iteration 9=============\n",
      "============AdaBoost iteration 10=============\n",
      "============AdaBoost iteration 11=============\n",
      "stump weights:  [0.1339350739879504, 0.19445707401239792, 0.052939803799880156, 0.06473431232415848, 0.074489110328114436, 0.078491148368661195, 0.037737848718270392, 0.054049386819014986, 0.024887269109361763, 0.031543877188622442, 0.02654777054055147, 0.02179057869638679]\n",
      "============AdaBoost iteration 0=============\n",
      "============AdaBoost iteration 1=============\n",
      "============AdaBoost iteration 2=============\n",
      "============AdaBoost iteration 3=============\n",
      "============AdaBoost iteration 4=============\n",
      "============AdaBoost iteration 5=============\n",
      "============AdaBoost iteration 6=============\n",
      "============AdaBoost iteration 7=============\n",
      "============AdaBoost iteration 8=============\n",
      "============AdaBoost iteration 9=============\n",
      "============AdaBoost iteration 10=============\n",
      "============AdaBoost iteration 11=============\n",
      "============AdaBoost iteration 12=============\n",
      "stump weights:  [0.1339350739879504, 0.19445707401239792, 0.052939803799880156, 0.06473431232415848, 0.074489110328114436, 0.078491148368661195, 0.037737848718270392, 0.054049386819014986, 0.024887269109361763, 0.031543877188622442, 0.02654777054055147, 0.02179057869638679, 0.018475103347443952]\n",
      "============AdaBoost iteration 0=============\n",
      "============AdaBoost iteration 1=============\n",
      "============AdaBoost iteration 2=============\n",
      "============AdaBoost iteration 3=============\n",
      "============AdaBoost iteration 4=============\n",
      "============AdaBoost iteration 5=============\n",
      "============AdaBoost iteration 6=============\n",
      "============AdaBoost iteration 7=============\n",
      "============AdaBoost iteration 8=============\n",
      "============AdaBoost iteration 9=============\n",
      "============AdaBoost iteration 10=============\n",
      "============AdaBoost iteration 11=============\n",
      "============AdaBoost iteration 12=============\n",
      "============AdaBoost iteration 13=============\n",
      "stump weights:  [0.1339350739879504, 0.19445707401239792, 0.052939803799880156, 0.06473431232415848, 0.074489110328114436, 0.078491148368661195, 0.037737848718270392, 0.054049386819014986, 0.024887269109361763, 0.031543877188622442, 0.02654777054055147, 0.02179057869638679, 0.018475103347443952, 0.016866807355454604]\n",
      "============AdaBoost iteration 0=============\n",
      "============AdaBoost iteration 1=============\n",
      "============AdaBoost iteration 2=============\n",
      "============AdaBoost iteration 3=============\n",
      "============AdaBoost iteration 4=============\n",
      "============AdaBoost iteration 5=============\n",
      "============AdaBoost iteration 6=============\n",
      "============AdaBoost iteration 7=============\n",
      "============AdaBoost iteration 8=============\n",
      "============AdaBoost iteration 9=============\n",
      "============AdaBoost iteration 10=============\n",
      "============AdaBoost iteration 11=============\n",
      "============AdaBoost iteration 12=============\n",
      "============AdaBoost iteration 13=============\n",
      "============AdaBoost iteration 14=============\n",
      "stump weights:  [0.1339350739879504, 0.19445707401239792, 0.052939803799880156, 0.06473431232415848, 0.074489110328114436, 0.078491148368661195, 0.037737848718270392, 0.054049386819014986, 0.024887269109361763, 0.031543877188622442, 0.02654777054055147, 0.02179057869638679, 0.018475103347443952, 0.016866807355454604, 0.01482884071227579]\n"
     ]
    },
    {
     "name": "stdout",
     "output_type": "stream",
     "text": [
      "============AdaBoost iteration 0=============\n",
      "============AdaBoost iteration 1=============\n",
      "============AdaBoost iteration 2=============\n",
      "============AdaBoost iteration 3=============\n",
      "============AdaBoost iteration 4=============\n",
      "============AdaBoost iteration 5=============\n",
      "============AdaBoost iteration 6=============\n",
      "============AdaBoost iteration 7=============\n",
      "============AdaBoost iteration 8=============\n",
      "============AdaBoost iteration 9=============\n",
      "============AdaBoost iteration 10=============\n",
      "============AdaBoost iteration 11=============\n",
      "============AdaBoost iteration 12=============\n",
      "============AdaBoost iteration 13=============\n",
      "============AdaBoost iteration 14=============\n",
      "============AdaBoost iteration 15=============\n",
      "stump weights:  [0.1339350739879504, 0.19445707401239792, 0.052939803799880156, 0.06473431232415848, 0.074489110328114436, 0.078491148368661195, 0.037737848718270392, 0.054049386819014986, 0.024887269109361763, 0.031543877188622442, 0.02654777054055147, 0.02179057869638679, 0.018475103347443952, 0.016866807355454604, 0.01482884071227579, 0.013680890713232859]\n",
      "============AdaBoost iteration 0=============\n",
      "============AdaBoost iteration 1=============\n",
      "============AdaBoost iteration 2=============\n",
      "============AdaBoost iteration 3=============\n",
      "============AdaBoost iteration 4=============\n",
      "============AdaBoost iteration 5=============\n",
      "============AdaBoost iteration 6=============\n",
      "============AdaBoost iteration 7=============\n",
      "============AdaBoost iteration 8=============\n",
      "============AdaBoost iteration 9=============\n",
      "============AdaBoost iteration 10=============\n",
      "============AdaBoost iteration 11=============\n",
      "============AdaBoost iteration 12=============\n",
      "============AdaBoost iteration 13=============\n",
      "============AdaBoost iteration 14=============\n",
      "============AdaBoost iteration 15=============\n",
      "============AdaBoost iteration 16=============\n",
      "stump weights:  [0.1339350739879504, 0.19445707401239792, 0.052939803799880156, 0.06473431232415848, 0.074489110328114436, 0.078491148368661195, 0.037737848718270392, 0.054049386819014986, 0.024887269109361763, 0.031543877188622442, 0.02654777054055147, 0.02179057869638679, 0.018475103347443952, 0.016866807355454604, 0.01482884071227579, 0.013680890713232859, 0.015435257162707085]\n",
      "============AdaBoost iteration 0=============\n",
      "============AdaBoost iteration 1=============\n",
      "============AdaBoost iteration 2=============\n",
      "============AdaBoost iteration 3=============\n",
      "============AdaBoost iteration 4=============\n",
      "============AdaBoost iteration 5=============\n",
      "============AdaBoost iteration 6=============\n",
      "============AdaBoost iteration 7=============\n",
      "============AdaBoost iteration 8=============\n",
      "============AdaBoost iteration 9=============\n",
      "============AdaBoost iteration 10=============\n",
      "============AdaBoost iteration 11=============\n",
      "============AdaBoost iteration 12=============\n",
      "============AdaBoost iteration 13=============\n",
      "============AdaBoost iteration 14=============\n",
      "============AdaBoost iteration 15=============\n",
      "============AdaBoost iteration 16=============\n",
      "============AdaBoost iteration 17=============\n",
      "stump weights:  [0.1339350739879504, 0.19445707401239792, 0.052939803799880156, 0.06473431232415848, 0.074489110328114436, 0.078491148368661195, 0.037737848718270392, 0.054049386819014986, 0.024887269109361763, 0.031543877188622442, 0.02654777054055147, 0.02179057869638679, 0.018475103347443952, 0.016866807355454604, 0.01482884071227579, 0.013680890713232859, 0.015435257162707085, 0.032573791581041199]\n",
      "============AdaBoost iteration 0=============\n",
      "============AdaBoost iteration 1=============\n",
      "============AdaBoost iteration 2=============\n",
      "============AdaBoost iteration 3=============\n",
      "============AdaBoost iteration 4=============\n",
      "============AdaBoost iteration 5=============\n",
      "============AdaBoost iteration 6=============\n",
      "============AdaBoost iteration 7=============\n",
      "============AdaBoost iteration 8=============\n",
      "============AdaBoost iteration 9=============\n",
      "============AdaBoost iteration 10=============\n",
      "============AdaBoost iteration 11=============\n",
      "============AdaBoost iteration 12=============\n",
      "============AdaBoost iteration 13=============\n",
      "============AdaBoost iteration 14=============\n",
      "============AdaBoost iteration 15=============\n",
      "============AdaBoost iteration 16=============\n",
      "============AdaBoost iteration 17=============\n",
      "============AdaBoost iteration 18=============\n",
      "stump weights:  [0.1339350739879504, 0.19445707401239792, 0.052939803799880156, 0.06473431232415848, 0.074489110328114436, 0.078491148368661195, 0.037737848718270392, 0.054049386819014986, 0.024887269109361763, 0.031543877188622442, 0.02654777054055147, 0.02179057869638679, 0.018475103347443952, 0.016866807355454604, 0.01482884071227579, 0.013680890713232859, 0.015435257162707085, 0.032573791581041199, 0.027188606599908089]\n",
      "============AdaBoost iteration 0=============\n",
      "============AdaBoost iteration 1=============\n",
      "============AdaBoost iteration 2=============\n",
      "============AdaBoost iteration 3=============\n",
      "============AdaBoost iteration 4=============\n",
      "============AdaBoost iteration 5=============\n",
      "============AdaBoost iteration 6=============\n",
      "============AdaBoost iteration 7=============\n",
      "============AdaBoost iteration 8=============\n",
      "============AdaBoost iteration 9=============\n",
      "============AdaBoost iteration 10=============\n",
      "============AdaBoost iteration 11=============\n",
      "============AdaBoost iteration 12=============\n",
      "============AdaBoost iteration 13=============\n",
      "============AdaBoost iteration 14=============\n",
      "============AdaBoost iteration 15=============\n",
      "============AdaBoost iteration 16=============\n",
      "============AdaBoost iteration 17=============\n",
      "============AdaBoost iteration 18=============\n",
      "============AdaBoost iteration 19=============\n",
      "stump weights:  [0.1339350739879504, 0.19445707401239792, 0.052939803799880156, 0.06473431232415848, 0.074489110328114436, 0.078491148368661195, 0.037737848718270392, 0.054049386819014986, 0.024887269109361763, 0.031543877188622442, 0.02654777054055147, 0.02179057869638679, 0.018475103347443952, 0.016866807355454604, 0.01482884071227579, 0.013680890713232859, 0.015435257162707085, 0.032573791581041199, 0.027188606599908089, 0.022153461291409084]\n",
      "============AdaBoost iteration 0=============\n",
      "============AdaBoost iteration 1=============\n",
      "============AdaBoost iteration 2=============\n",
      "============AdaBoost iteration 3=============\n",
      "============AdaBoost iteration 4=============\n",
      "============AdaBoost iteration 5=============\n",
      "============AdaBoost iteration 6=============\n",
      "============AdaBoost iteration 7=============\n",
      "============AdaBoost iteration 8=============\n",
      "============AdaBoost iteration 9=============\n",
      "============AdaBoost iteration 10=============\n",
      "============AdaBoost iteration 11=============\n",
      "============AdaBoost iteration 12=============\n",
      "============AdaBoost iteration 13=============\n",
      "============AdaBoost iteration 14=============\n",
      "============AdaBoost iteration 15=============\n",
      "============AdaBoost iteration 16=============\n",
      "============AdaBoost iteration 17=============\n",
      "============AdaBoost iteration 18=============\n",
      "============AdaBoost iteration 19=============\n",
      "============AdaBoost iteration 20=============\n",
      "stump weights:  [0.1339350739879504, 0.19445707401239792, 0.052939803799880156, 0.06473431232415848, 0.074489110328114436, 0.078491148368661195, 0.037737848718270392, 0.054049386819014986, 0.024887269109361763, 0.031543877188622442, 0.02654777054055147, 0.02179057869638679, 0.018475103347443952, 0.016866807355454604, 0.01482884071227579, 0.013680890713232859, 0.015435257162707085, 0.032573791581041199, 0.027188606599908089, 0.022153461291409084, 0.030242949631492648]\n",
      "============AdaBoost iteration 0=============\n",
      "============AdaBoost iteration 1=============\n",
      "============AdaBoost iteration 2=============\n",
      "============AdaBoost iteration 3=============\n",
      "============AdaBoost iteration 4=============\n",
      "============AdaBoost iteration 5=============\n",
      "============AdaBoost iteration 6=============\n",
      "============AdaBoost iteration 7=============\n",
      "============AdaBoost iteration 8=============\n",
      "============AdaBoost iteration 9=============\n",
      "============AdaBoost iteration 10=============\n",
      "============AdaBoost iteration 11=============\n"
     ]
    },
    {
     "name": "stdout",
     "output_type": "stream",
     "text": [
      "============AdaBoost iteration 12=============\n",
      "============AdaBoost iteration 13=============\n",
      "============AdaBoost iteration 14=============\n",
      "============AdaBoost iteration 15=============\n",
      "============AdaBoost iteration 16=============\n",
      "============AdaBoost iteration 17=============\n",
      "============AdaBoost iteration 18=============\n",
      "============AdaBoost iteration 19=============\n",
      "============AdaBoost iteration 20=============\n",
      "============AdaBoost iteration 21=============\n",
      "stump weights:  [0.1339350739879504, 0.19445707401239792, 0.052939803799880156, 0.06473431232415848, 0.074489110328114436, 0.078491148368661195, 0.037737848718270392, 0.054049386819014986, 0.024887269109361763, 0.031543877188622442, 0.02654777054055147, 0.02179057869638679, 0.018475103347443952, 0.016866807355454604, 0.01482884071227579, 0.013680890713232859, 0.015435257162707085, 0.032573791581041199, 0.027188606599908089, 0.022153461291409084, 0.030242949631492648, 0.027773565973944585]\n",
      "============AdaBoost iteration 0=============\n",
      "============AdaBoost iteration 1=============\n",
      "============AdaBoost iteration 2=============\n",
      "============AdaBoost iteration 3=============\n",
      "============AdaBoost iteration 4=============\n",
      "============AdaBoost iteration 5=============\n",
      "============AdaBoost iteration 6=============\n",
      "============AdaBoost iteration 7=============\n",
      "============AdaBoost iteration 8=============\n",
      "============AdaBoost iteration 9=============\n",
      "============AdaBoost iteration 10=============\n",
      "============AdaBoost iteration 11=============\n",
      "============AdaBoost iteration 12=============\n",
      "============AdaBoost iteration 13=============\n",
      "============AdaBoost iteration 14=============\n",
      "============AdaBoost iteration 15=============\n",
      "============AdaBoost iteration 16=============\n",
      "============AdaBoost iteration 17=============\n",
      "============AdaBoost iteration 18=============\n",
      "============AdaBoost iteration 19=============\n",
      "============AdaBoost iteration 20=============\n",
      "============AdaBoost iteration 21=============\n",
      "============AdaBoost iteration 22=============\n",
      "stump weights:  [0.1339350739879504, 0.19445707401239792, 0.052939803799880156, 0.06473431232415848, 0.074489110328114436, 0.078491148368661195, 0.037737848718270392, 0.054049386819014986, 0.024887269109361763, 0.031543877188622442, 0.02654777054055147, 0.02179057869638679, 0.018475103347443952, 0.016866807355454604, 0.01482884071227579, 0.013680890713232859, 0.015435257162707085, 0.032573791581041199, 0.027188606599908089, 0.022153461291409084, 0.030242949631492648, 0.027773565973944585, 0.010525427305548306]\n",
      "============AdaBoost iteration 0=============\n",
      "============AdaBoost iteration 1=============\n",
      "============AdaBoost iteration 2=============\n",
      "============AdaBoost iteration 3=============\n",
      "============AdaBoost iteration 4=============\n",
      "============AdaBoost iteration 5=============\n",
      "============AdaBoost iteration 6=============\n",
      "============AdaBoost iteration 7=============\n",
      "============AdaBoost iteration 8=============\n",
      "============AdaBoost iteration 9=============\n",
      "============AdaBoost iteration 10=============\n",
      "============AdaBoost iteration 11=============\n",
      "============AdaBoost iteration 12=============\n",
      "============AdaBoost iteration 13=============\n",
      "============AdaBoost iteration 14=============\n",
      "============AdaBoost iteration 15=============\n",
      "============AdaBoost iteration 16=============\n",
      "============AdaBoost iteration 17=============\n",
      "============AdaBoost iteration 18=============\n",
      "============AdaBoost iteration 19=============\n",
      "============AdaBoost iteration 20=============\n",
      "============AdaBoost iteration 21=============\n",
      "============AdaBoost iteration 22=============\n",
      "============AdaBoost iteration 23=============\n",
      "stump weights:  [0.1339350739879504, 0.19445707401239792, 0.052939803799880156, 0.06473431232415848, 0.074489110328114436, 0.078491148368661195, 0.037737848718270392, 0.054049386819014986, 0.024887269109361763, 0.031543877188622442, 0.02654777054055147, 0.02179057869638679, 0.018475103347443952, 0.016866807355454604, 0.01482884071227579, 0.013680890713232859, 0.015435257162707085, 0.032573791581041199, 0.027188606599908089, 0.022153461291409084, 0.030242949631492648, 0.027773565973944585, 0.010525427305548306, 0.018557868686709209]\n",
      "============AdaBoost iteration 0=============\n",
      "============AdaBoost iteration 1=============\n",
      "============AdaBoost iteration 2=============\n",
      "============AdaBoost iteration 3=============\n",
      "============AdaBoost iteration 4=============\n",
      "============AdaBoost iteration 5=============\n",
      "============AdaBoost iteration 6=============\n",
      "============AdaBoost iteration 7=============\n",
      "============AdaBoost iteration 8=============\n",
      "============AdaBoost iteration 9=============\n",
      "============AdaBoost iteration 10=============\n",
      "============AdaBoost iteration 11=============\n",
      "============AdaBoost iteration 12=============\n",
      "============AdaBoost iteration 13=============\n",
      "============AdaBoost iteration 14=============\n",
      "============AdaBoost iteration 15=============\n",
      "============AdaBoost iteration 16=============\n",
      "============AdaBoost iteration 17=============\n",
      "============AdaBoost iteration 18=============\n",
      "============AdaBoost iteration 19=============\n",
      "============AdaBoost iteration 20=============\n",
      "============AdaBoost iteration 21=============\n",
      "============AdaBoost iteration 22=============\n",
      "============AdaBoost iteration 23=============\n",
      "============AdaBoost iteration 24=============\n",
      "stump weights:  [0.1339350739879504, 0.19445707401239792, 0.052939803799880156, 0.06473431232415848, 0.074489110328114436, 0.078491148368661195, 0.037737848718270392, 0.054049386819014986, 0.024887269109361763, 0.031543877188622442, 0.02654777054055147, 0.02179057869638679, 0.018475103347443952, 0.016866807355454604, 0.01482884071227579, 0.013680890713232859, 0.015435257162707085, 0.032573791581041199, 0.027188606599908089, 0.022153461291409084, 0.030242949631492648, 0.027773565973944585, 0.010525427305548306, 0.018557868686709209, 0.012586793535837795]\n",
      "============AdaBoost iteration 0=============\n",
      "============AdaBoost iteration 1=============\n",
      "============AdaBoost iteration 2=============\n",
      "============AdaBoost iteration 3=============\n",
      "============AdaBoost iteration 4=============\n",
      "============AdaBoost iteration 5=============\n",
      "============AdaBoost iteration 6=============\n",
      "============AdaBoost iteration 7=============\n",
      "============AdaBoost iteration 8=============\n",
      "============AdaBoost iteration 9=============\n",
      "============AdaBoost iteration 10=============\n",
      "============AdaBoost iteration 11=============\n",
      "============AdaBoost iteration 12=============\n",
      "============AdaBoost iteration 13=============\n",
      "============AdaBoost iteration 14=============\n",
      "============AdaBoost iteration 15=============\n",
      "============AdaBoost iteration 16=============\n",
      "============AdaBoost iteration 17=============\n",
      "============AdaBoost iteration 18=============\n",
      "============AdaBoost iteration 19=============\n",
      "============AdaBoost iteration 20=============\n",
      "============AdaBoost iteration 21=============\n",
      "============AdaBoost iteration 22=============\n",
      "============AdaBoost iteration 23=============\n",
      "============AdaBoost iteration 24=============\n",
      "============AdaBoost iteration 25=============\n",
      "stump weights:  [0.1339350739879504, 0.19445707401239792, 0.052939803799880156, 0.06473431232415848, 0.074489110328114436, 0.078491148368661195, 0.037737848718270392, 0.054049386819014986, 0.024887269109361763, 0.031543877188622442, 0.02654777054055147, 0.02179057869638679, 0.018475103347443952, 0.016866807355454604, 0.01482884071227579, 0.013680890713232859, 0.015435257162707085, 0.032573791581041199, 0.027188606599908089, 0.022153461291409084, 0.030242949631492648, 0.027773565973944585, 0.010525427305548306, 0.018557868686709209, 0.012586793535837795, 0.011615808568941937]\n",
      "============AdaBoost iteration 0=============\n",
      "============AdaBoost iteration 1=============\n",
      "============AdaBoost iteration 2=============\n",
      "============AdaBoost iteration 3=============\n",
      "============AdaBoost iteration 4=============\n",
      "============AdaBoost iteration 5=============\n",
      "============AdaBoost iteration 6=============\n",
      "============AdaBoost iteration 7=============\n",
      "============AdaBoost iteration 8=============\n",
      "============AdaBoost iteration 9=============\n",
      "============AdaBoost iteration 10=============\n"
     ]
    },
    {
     "name": "stdout",
     "output_type": "stream",
     "text": [
      "============AdaBoost iteration 11=============\n",
      "============AdaBoost iteration 12=============\n",
      "============AdaBoost iteration 13=============\n",
      "============AdaBoost iteration 14=============\n",
      "============AdaBoost iteration 15=============\n",
      "============AdaBoost iteration 16=============\n",
      "============AdaBoost iteration 17=============\n",
      "============AdaBoost iteration 18=============\n",
      "============AdaBoost iteration 19=============\n",
      "============AdaBoost iteration 20=============\n",
      "============AdaBoost iteration 21=============\n",
      "============AdaBoost iteration 22=============\n",
      "============AdaBoost iteration 23=============\n",
      "============AdaBoost iteration 24=============\n",
      "============AdaBoost iteration 25=============\n",
      "============AdaBoost iteration 26=============\n",
      "stump weights:  [0.1339350739879504, 0.19445707401239792, 0.052939803799880156, 0.06473431232415848, 0.074489110328114436, 0.078491148368661195, 0.037737848718270392, 0.054049386819014986, 0.024887269109361763, 0.031543877188622442, 0.02654777054055147, 0.02179057869638679, 0.018475103347443952, 0.016866807355454604, 0.01482884071227579, 0.013680890713232859, 0.015435257162707085, 0.032573791581041199, 0.027188606599908089, 0.022153461291409084, 0.030242949631492648, 0.027773565973944585, 0.010525427305548306, 0.018557868686709209, 0.012586793535837795, 0.011615808568941937, 0.006444315185610317]\n",
      "============AdaBoost iteration 0=============\n",
      "============AdaBoost iteration 1=============\n",
      "============AdaBoost iteration 2=============\n",
      "============AdaBoost iteration 3=============\n",
      "============AdaBoost iteration 4=============\n",
      "============AdaBoost iteration 5=============\n",
      "============AdaBoost iteration 6=============\n",
      "============AdaBoost iteration 7=============\n",
      "============AdaBoost iteration 8=============\n",
      "============AdaBoost iteration 9=============\n",
      "============AdaBoost iteration 10=============\n",
      "============AdaBoost iteration 11=============\n",
      "============AdaBoost iteration 12=============\n",
      "============AdaBoost iteration 13=============\n",
      "============AdaBoost iteration 14=============\n",
      "============AdaBoost iteration 15=============\n",
      "============AdaBoost iteration 16=============\n",
      "============AdaBoost iteration 17=============\n",
      "============AdaBoost iteration 18=============\n",
      "============AdaBoost iteration 19=============\n",
      "============AdaBoost iteration 20=============\n",
      "============AdaBoost iteration 21=============\n",
      "============AdaBoost iteration 22=============\n",
      "============AdaBoost iteration 23=============\n",
      "============AdaBoost iteration 24=============\n",
      "============AdaBoost iteration 25=============\n",
      "============AdaBoost iteration 26=============\n",
      "============AdaBoost iteration 27=============\n",
      "stump weights:  [0.1339350739879504, 0.19445707401239792, 0.052939803799880156, 0.06473431232415848, 0.074489110328114436, 0.078491148368661195, 0.037737848718270392, 0.054049386819014986, 0.024887269109361763, 0.031543877188622442, 0.02654777054055147, 0.02179057869638679, 0.018475103347443952, 0.016866807355454604, 0.01482884071227579, 0.013680890713232859, 0.015435257162707085, 0.032573791581041199, 0.027188606599908089, 0.022153461291409084, 0.030242949631492648, 0.027773565973944585, 0.010525427305548306, 0.018557868686709209, 0.012586793535837795, 0.011615808568941937, 0.006444315185610317, 0.0063010299230944868]\n",
      "============AdaBoost iteration 0=============\n",
      "============AdaBoost iteration 1=============\n",
      "============AdaBoost iteration 2=============\n",
      "============AdaBoost iteration 3=============\n",
      "============AdaBoost iteration 4=============\n",
      "============AdaBoost iteration 5=============\n",
      "============AdaBoost iteration 6=============\n",
      "============AdaBoost iteration 7=============\n",
      "============AdaBoost iteration 8=============\n",
      "============AdaBoost iteration 9=============\n",
      "============AdaBoost iteration 10=============\n",
      "============AdaBoost iteration 11=============\n",
      "============AdaBoost iteration 12=============\n",
      "============AdaBoost iteration 13=============\n",
      "============AdaBoost iteration 14=============\n",
      "============AdaBoost iteration 15=============\n",
      "============AdaBoost iteration 16=============\n",
      "============AdaBoost iteration 17=============\n",
      "============AdaBoost iteration 18=============\n",
      "============AdaBoost iteration 19=============\n",
      "============AdaBoost iteration 20=============\n",
      "============AdaBoost iteration 21=============\n",
      "============AdaBoost iteration 22=============\n",
      "============AdaBoost iteration 23=============\n",
      "============AdaBoost iteration 24=============\n",
      "============AdaBoost iteration 25=============\n",
      "============AdaBoost iteration 26=============\n",
      "============AdaBoost iteration 27=============\n",
      "============AdaBoost iteration 28=============\n",
      "stump weights:  [0.1339350739879504, 0.19445707401239792, 0.052939803799880156, 0.06473431232415848, 0.074489110328114436, 0.078491148368661195, 0.037737848718270392, 0.054049386819014986, 0.024887269109361763, 0.031543877188622442, 0.02654777054055147, 0.02179057869638679, 0.018475103347443952, 0.016866807355454604, 0.01482884071227579, 0.013680890713232859, 0.015435257162707085, 0.032573791581041199, 0.027188606599908089, 0.022153461291409084, 0.030242949631492648, 0.027773565973944585, 0.010525427305548306, 0.018557868686709209, 0.012586793535837795, 0.011615808568941937, 0.006444315185610317, 0.0063010299230944868, 0.0061611752991920336]\n",
      "============AdaBoost iteration 0=============\n",
      "============AdaBoost iteration 1=============\n",
      "============AdaBoost iteration 2=============\n",
      "============AdaBoost iteration 3=============\n",
      "============AdaBoost iteration 4=============\n",
      "============AdaBoost iteration 5=============\n",
      "============AdaBoost iteration 6=============\n",
      "============AdaBoost iteration 7=============\n",
      "============AdaBoost iteration 8=============\n",
      "============AdaBoost iteration 9=============\n",
      "============AdaBoost iteration 10=============\n",
      "============AdaBoost iteration 11=============\n",
      "============AdaBoost iteration 12=============\n",
      "============AdaBoost iteration 13=============\n",
      "============AdaBoost iteration 14=============\n",
      "============AdaBoost iteration 15=============\n",
      "============AdaBoost iteration 16=============\n",
      "============AdaBoost iteration 17=============\n",
      "============AdaBoost iteration 18=============\n",
      "============AdaBoost iteration 19=============\n",
      "============AdaBoost iteration 20=============\n",
      "============AdaBoost iteration 21=============\n",
      "============AdaBoost iteration 22=============\n",
      "============AdaBoost iteration 23=============\n",
      "============AdaBoost iteration 24=============\n",
      "============AdaBoost iteration 25=============\n",
      "============AdaBoost iteration 26=============\n",
      "============AdaBoost iteration 27=============\n",
      "============AdaBoost iteration 28=============\n",
      "============AdaBoost iteration 29=============\n",
      "stump weights:  [0.1339350739879504, 0.19445707401239792, 0.052939803799880156, 0.06473431232415848, 0.074489110328114436, 0.078491148368661195, 0.037737848718270392, 0.054049386819014986, 0.024887269109361763, 0.031543877188622442, 0.02654777054055147, 0.02179057869638679, 0.018475103347443952, 0.016866807355454604, 0.01482884071227579, 0.013680890713232859, 0.015435257162707085, 0.032573791581041199, 0.027188606599908089, 0.022153461291409084, 0.030242949631492648, 0.027773565973944585, 0.010525427305548306, 0.018557868686709209, 0.012586793535837795, 0.011615808568941937, 0.006444315185610317, 0.0063010299230944868, 0.0061611752991920336, 0.0060246536708601127]\n"
     ]
    }
   ],
   "source": [
    "train_error_all = []\n",
    "test_error_all = []\n",
    "T = 31\n",
    "for n in range(1, T):\n",
    "    tree_stumps, tree_stump_weights = AdaBoost_with_decision_stumps(train_data, features, target, n)\n",
    "    print('stump weights: ', tree_stump_weights)\n",
    "    train_predications = predict_AdaBoost(tree_stumps, tree_stump_weights, train_data)\n",
    "    train_error_all.append((train_predications != train_data[target]).sum() / len(train_data))\n",
    "    test_predications = predict_AdaBoost(tree_stumps, tree_stump_weights, test_data)\n",
    "    test_error_all.append((test_predications != test_data[target]).sum() / len(test_data))"
   ]
  },
  {
   "cell_type": "code",
   "execution_count": 55,
   "metadata": {},
   "outputs": [
    {
     "data": {
      "text/plain": [
       "1   -1\n",
       "6   -1\n",
       "7   -1\n",
       "Name: safe_loans, dtype: int64"
      ]
     },
     "execution_count": 55,
     "metadata": {},
     "output_type": "execute_result"
    }
   ],
   "source": [
    "train_data[target][0:3]"
   ]
  },
  {
   "cell_type": "code",
   "execution_count": 56,
   "metadata": {},
   "outputs": [
    {
     "data": {
      "image/png": "[encoded data removed]",
      "text/plain": [
       "<matplotlib.figure.Figure at 0x1ea400d1160>"
      ]
     },
     "metadata": {},
     "output_type": "display_data"
    }
   ],
   "source": [
    "import matplotlib.pyplot as plt\n",
    "plt.rcParams['figure.figsize'] = 7, 5\n",
    "plt.plot(range(1,T), train_error_all, '-', linewidth=4.0, label='Training error')\n",
    "plt.plot(range(1,T), test_error_all, '-', linewidth=4.0, label='Test error')\n",
    "\n",
    "plt.title('Performance of Adaboost ensemble')\n",
    "plt.xlabel('# of iterations')\n",
    "plt.ylabel('Classification error')\n",
    "plt.rcParams.update({'font.size': 16})\n",
    "plt.legend(loc='best', prop={'size':15})\n",
    "plt.tight_layout()"
   ]
  },
  {
   "cell_type": "code",
   "execution_count": null,
   "metadata": {
    "collapsed": true
   },
   "outputs": [],
   "source": []
  }
 ],
 "metadata": {
  "kernelspec": {
   "display_name": "Python 3",
   "language": "python",
   "name": "python3"
  },
  "language_info": {
   "codemirror_mode": {
    "name": "ipython",
    "version": 3
   },
   "file_extension": ".py",
   "mimetype": "text/x-python",
   "name": "python",
   "nbconvert_exporter": "python",
   "pygments_lexer": "ipython3",
   "version": "3.6.2"
  }
 },
 "nbformat": 4,
 "nbformat_minor": 2
}
